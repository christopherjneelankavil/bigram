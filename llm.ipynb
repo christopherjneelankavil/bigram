{
  "nbformat": 4,
  "nbformat_minor": 0,
  "metadata": {
    "colab": {
      "provenance": [],
      "authorship_tag": "ABX9TyNdaucfOZ8V4MRAhQwgoP2w",
      "include_colab_link": true
    },
    "kernelspec": {
      "name": "python3",
      "display_name": "Python 3"
    },
    "language_info": {
      "name": "python"
    }
  },
  "cells": [
    {
      "cell_type": "markdown",
      "metadata": {
        "id": "view-in-github",
        "colab_type": "text"
      },
      "source": [
        "<a href=\"https://colab.research.google.com/github/christopherjneelankavil/bigram/blob/main/llm.ipynb\" target=\"_parent\"><img src=\"https://colab.research.google.com/assets/colab-badge.svg\" alt=\"Open In Colab\"/></a>"
      ]
    },
    {
      "cell_type": "code",
      "execution_count": null,
      "metadata": {
        "colab": {
          "base_uri": "https://localhost:8080/"
        },
        "id": "iwq_p9DSeLAB",
        "outputId": "0239bed7-bd0b-44c1-e092-266dcbe417a7"
      },
      "outputs": [
        {
          "output_type": "stream",
          "name": "stdout",
          "text": [
            "Requirement already satisfied: numpy in /usr/local/lib/python3.11/dist-packages (2.0.2)\n",
            "Requirement already satisfied: matplotlib in /usr/local/lib/python3.11/dist-packages (3.10.0)\n",
            "Collecting pylzma\n",
            "  Downloading pylzma-0.5.0.tar.gz (4.2 MB)\n",
            "\u001b[2K     \u001b[90m━━━━━━━━━━━━━━━━━━━━━━━━━━━━━━━━━━━━━━━━\u001b[0m \u001b[32m4.2/4.2 MB\u001b[0m \u001b[31m14.6 MB/s\u001b[0m eta \u001b[36m0:00:00\u001b[0m\n",
            "\u001b[?25h  Preparing metadata (setup.py) ... \u001b[?25l\u001b[?25hdone\n",
            "Requirement already satisfied: contourpy>=1.0.1 in /usr/local/lib/python3.11/dist-packages (from matplotlib) (1.3.2)\n",
            "Requirement already satisfied: cycler>=0.10 in /usr/local/lib/python3.11/dist-packages (from matplotlib) (0.12.1)\n",
            "Requirement already satisfied: fonttools>=4.22.0 in /usr/local/lib/python3.11/dist-packages (from matplotlib) (4.59.0)\n",
            "Requirement already satisfied: kiwisolver>=1.3.1 in /usr/local/lib/python3.11/dist-packages (from matplotlib) (1.4.8)\n",
            "Requirement already satisfied: packaging>=20.0 in /usr/local/lib/python3.11/dist-packages (from matplotlib) (25.0)\n",
            "Requirement already satisfied: pillow>=8 in /usr/local/lib/python3.11/dist-packages (from matplotlib) (11.3.0)\n",
            "Requirement already satisfied: pyparsing>=2.3.1 in /usr/local/lib/python3.11/dist-packages (from matplotlib) (3.2.3)\n",
            "Requirement already satisfied: python-dateutil>=2.7 in /usr/local/lib/python3.11/dist-packages (from matplotlib) (2.9.0.post0)\n",
            "Requirement already satisfied: six>=1.5 in /usr/local/lib/python3.11/dist-packages (from python-dateutil>=2.7->matplotlib) (1.17.0)\n",
            "Building wheels for collected packages: pylzma\n",
            "  Building wheel for pylzma (setup.py) ... \u001b[?25l\u001b[?25hdone\n",
            "  Created wheel for pylzma: filename=pylzma-0.5.0-cp311-cp311-linux_x86_64.whl size=226201 sha256=3d5f7bbbc90b11e8c417b4714be3b135eeaaa127a1db6b249fe75b2d289e5b7a\n",
            "  Stored in directory: /root/.cache/pip/wheels/5e/a6/15/41db3b28c85c319634deaac952ffb8869d199d50d71332c119\n",
            "Successfully built pylzma\n",
            "Installing collected packages: pylzma\n",
            "Successfully installed pylzma-0.5.0\n"
          ]
        }
      ],
      "source": [
        "!pip install numpy matplotlib pylzma"
      ]
    },
    {
      "cell_type": "code",
      "source": [
        "import torch\n",
        "import torch.nn as nn\n",
        "from torch.nn import functional as F\n",
        "block_size = 8\n",
        "batch_size = 4"
      ],
      "metadata": {
        "id": "fsAYNM8Keb1h"
      },
      "execution_count": null,
      "outputs": []
    },
    {
      "cell_type": "code",
      "source": [
        "with open(\"/content/wizard_of_oz.txt\",\"r\",encoding=\"utf-8\") as f:\n",
        "  text = f.read()\n",
        "\n",
        "chars = sorted(set(text))\n",
        "print(chars)\n",
        "vocabulary_size = len(chars)\n",
        "print(len(chars))"
      ],
      "metadata": {
        "colab": {
          "base_uri": "https://localhost:8080/"
        },
        "id": "NMLpqxJyjq_4",
        "outputId": "d2f91074-e0bd-4504-8e44-1b9bc79354d1"
      },
      "execution_count": null,
      "outputs": [
        {
          "output_type": "stream",
          "name": "stdout",
          "text": [
            "['\\n', ' ', '!', '(', ')', ',', '-', '.', ':', ';', '?', 'A', 'B', 'C', 'D', 'E', 'F', 'G', 'H', 'I', 'J', 'K', 'L', 'M', 'N', 'O', 'P', 'Q', 'R', 'S', 'T', 'U', 'V', 'W', 'X', 'Y', 'Z', 'a', 'b', 'c', 'd', 'e', 'f', 'g', 'h', 'i', 'j', 'k', 'l', 'm', 'n', 'o', 'p', 'q', 'r', 's', 't', 'u', 'v', 'w', 'x', 'y', 'z', '—', '‘', '’', '“', '”', '\\ufeff']\n",
            "69\n"
          ]
        }
      ]
    },
    {
      "cell_type": "code",
      "source": [
        "string_to_int = {ch : i for i,ch in enumerate(chars)}\n",
        "int_to_string = {i : ch for i,ch in enumerate(chars)}\n",
        "encode = lambda s: [string_to_int[c] for c in s]\n",
        "decode = lambda l: \"\".join([int_to_string[i] for i in l])\n",
        "\n",
        "data = torch.tensor(encode(text), dtype=torch.long)\n",
        "print(data[:200])"
      ],
      "metadata": {
        "id": "ccpFXZ87k0hf",
        "colab": {
          "base_uri": "https://localhost:8080/"
        },
        "outputId": "bca920b0-c5cc-4540-92b1-b68077fd453c"
      },
      "execution_count": null,
      "outputs": [
        {
          "output_type": "stream",
          "name": "stdout",
          "text": [
            "tensor([68,  1,  1, 30, 44, 41,  1, 33, 51, 50, 40, 41, 54, 42, 57, 48,  1, 33,\n",
            "        45, 62, 37, 54, 40,  1, 51, 42,  1, 25, 62,  0,  0,  0,  0,  0, 13, 44,\n",
            "        37, 52, 56, 41, 54,  1, 19,  0, 30, 44, 41,  1, 13, 61, 39, 48, 51, 50,\n",
            "        41,  0,  0,  0, 14, 51, 54, 51, 56, 44, 61,  1, 48, 45, 58, 41, 40,  1,\n",
            "        45, 50,  1, 56, 44, 41,  1, 49, 45, 40, 55, 56,  1, 51, 42,  1, 56, 44,\n",
            "        41,  1, 43, 54, 41, 37, 56,  1, 21, 37, 50, 55, 37, 55,  1, 52, 54, 37,\n",
            "        45, 54, 45, 41, 55,  5,  1, 59, 45, 56, 44,  1, 31, 50, 39, 48, 41,  0,\n",
            "        18, 41, 50, 54, 61,  5,  1, 59, 44, 51,  1, 59, 37, 55,  1, 37,  1, 42,\n",
            "        37, 54, 49, 41, 54,  5,  1, 37, 50, 40,  1, 11, 57, 50, 56,  1, 15, 49,\n",
            "         5,  1, 59, 44, 51,  1, 59, 37, 55,  1, 56, 44, 41,  1, 42, 37, 54, 49,\n",
            "        41, 54, 65, 55,  1, 59, 45, 42, 41,  7,  1, 30, 44, 41, 45, 54,  0, 44,\n",
            "        51, 57])\n"
          ]
        }
      ]
    },
    {
      "cell_type": "code",
      "source": [
        "## Train and val split\n",
        "\n",
        "n = int(0.8 * len(data))\n",
        "train_data = data[:n]\n",
        "val_data = data[n:]\n",
        "\n",
        "def get_batch(split):\n",
        "  data = train_data if split == 'train' else val_data\n",
        "  ix = torch.randint(len(data) - block_size, (batch_size,))\n",
        "  print(ix)\n",
        "\n",
        "  x = torch.stack([data[i:i+block_size] for i in ix])\n",
        "  y = torch.stack([data[i+1:i+block_size+1] for i in ix])\n",
        "  return x,y\n",
        "\n",
        "x,y = get_batch('train')\n",
        "print('inputs:')\n",
        "print(x)\n",
        "print('targets:')\n",
        "print(y)"
      ],
      "metadata": {
        "id": "-Q3oW0QBlK3b",
        "colab": {
          "base_uri": "https://localhost:8080/"
        },
        "outputId": "da4a973b-2271-4518-9e54-8fd6b8a68f65"
      },
      "execution_count": null,
      "outputs": [
        {
          "output_type": "stream",
          "name": "stdout",
          "text": [
            "tensor([ 30600,  73454, 107397, 137031])\n",
            "inputs:\n",
            "tensor([[48, 56,  1, 58, 41, 54, 61,  1],\n",
            "        [37, 47,  1, 51, 42,  1, 45, 56],\n",
            "        [ 0, 66, 19,  1, 59, 45, 48, 48],\n",
            "        [56,  5,  1, 59, 45, 56, 44,  1]])\n",
            "targets:\n",
            "tensor([[56,  1, 58, 41, 54, 61,  1, 52],\n",
            "        [47,  1, 51, 42,  1, 45, 56,  5],\n",
            "        [66, 19,  1, 59, 45, 48, 48,  1],\n",
            "        [ 5,  1, 59, 45, 56, 44,  1, 37]])\n"
          ]
        }
      ]
    },
    {
      "cell_type": "code",
      "source": [
        "x = train_data[:block_size]\n",
        "y = train_data[1:block_size+1]\n",
        "for t in range(block_size):\n",
        "  context = x[:t+1]\n",
        "  target = y[t]\n",
        "  print('when input is', context, 'target is', target)"
      ],
      "metadata": {
        "colab": {
          "base_uri": "https://localhost:8080/"
        },
        "id": "aopw2kKZ4Qlj",
        "outputId": "42d5f92f-856c-4da2-c3a8-baefd9b7e49f"
      },
      "execution_count": null,
      "outputs": [
        {
          "output_type": "stream",
          "name": "stdout",
          "text": [
            "when input is tensor([68]) target is tensor(1)\n",
            "when input is tensor([68,  1]) target is tensor(1)\n",
            "when input is tensor([68,  1,  1]) target is tensor(30)\n",
            "when input is tensor([68,  1,  1, 30]) target is tensor(44)\n",
            "when input is tensor([68,  1,  1, 30, 44]) target is tensor(41)\n",
            "when input is tensor([68,  1,  1, 30, 44, 41]) target is tensor(1)\n",
            "when input is tensor([68,  1,  1, 30, 44, 41,  1]) target is tensor(33)\n",
            "when input is tensor([68,  1,  1, 30, 44, 41,  1, 33]) target is tensor(51)\n"
          ]
        }
      ]
    },
    {
      "cell_type": "code",
      "source": [
        "from math import log\n",
        "class BigramLanguageModel(nn.Module):\n",
        "  def __init__(self, vocab_size):\n",
        "    super().__init__()\n",
        "    self.token_embedding_table = nn.Embedding(vocab_size, vocab_size)\n",
        "\n",
        "  def forward(self, index, targets=None):\n",
        "    logits = self.token_embedding_table(index)\n",
        "\n",
        "    if targets is None:\n",
        "      loss = None\n",
        "\n",
        "    else:\n",
        "      B, T, C = logits.shape\n",
        "      logits = logits.view(B*T, C)\n",
        "      targets = targets.view(B*T)\n",
        "      loss = F.cross_entropy(logits, targets)\n",
        "\n",
        "    return logits, loss\n",
        "\n",
        "  def generate(self, index, max_new_tokens):\n",
        "      # index is (B, T) array of indices in the current context\n",
        "      for _ in range(max_new_tokens):\n",
        "          # get the predictions\n",
        "          logits, loss = self.forward(index) # Pass targets=None to forward\n",
        "          # focus only on the last time step\n",
        "          logits = logits[:, -1, :] # becomes (B, C)\n",
        "          # apply softmax to get probabilities\n",
        "          probs = F.softmax(logits, dim=-1) # (B, C)\n",
        "          # sample from the distribution\n",
        "          index_next = torch.multinomial(probs, num_samples=1) # (B, 1)\n",
        "          # append sampled index to the running sequence\n",
        "          index = torch.cat((index, index_next), dim=1) # (B, T+1)\n",
        "      return index\n",
        "\n",
        "model = BigramLanguageModel(vocab_size=vocabulary_size)\n",
        "context = torch.zeros((1,1), dtype = torch.long)\n",
        "generated_chars = decode(model.generate(context,max_new_tokens=500)[0].tolist())\n",
        "print(generated_chars)"
      ],
      "metadata": {
        "colab": {
          "base_uri": "https://localhost:8080/"
        },
        "id": "37ThSuPr4dXW",
        "outputId": "2d5f97e3-3385-4aca-d7c0-f7b62403959d"
      },
      "execution_count": null,
      "outputs": [
        {
          "output_type": "stream",
          "name": "stdout",
          "text": [
            "\n",
            "RQ﻿D‘-fC— rwX“Typi,Es—”aaAaDZ—O,NEUYTczgfr-!:Ouj ?.pnh“Ay!B‘﻿wclxDA“WV:o-eMz”KRxyiR,F‘OxWqnrss!MqnE﻿iAqEuz’QiMm)LAzL?o!LXQLbO;pbB—TXPFwDAiKoiRbJR-XyjSZuz‘BeXzfYkDUPF.pVw,saSOZJDAD‘tU\n",
            "Il’:XM?O“q!saDU?oH\n",
            "? JOH‘bnb;JJytRJ Fb;WxN?o-GQWKnjRV﻿﻿FyS’KoiCpuFeyi”KUr:a—”.S (-TBe-aWqjkqHZJ:Pld—RwQL,﻿rQB;-XbpnbZ—TFsEh,d —xAH-f-zYYr?BEkypHIqHIoHIE﻿rQJ !XhAw)Ei”t—:okC—ExH!,QZ!HI‘By-,—’J ;UoRbZhiRPYkDAO(TwIHiz’tiDFyUDUgn,XbNa—?‘BelShrX—:a—sBZJs()b-t!PhTKIJeMk\n",
            "UWRbBgW-so?oRb!”w—TogFItBcEXP-nE!- ,e!,j.DAT-fC“D‘k.\n"
          ]
        }
      ]
    }
  ]
}