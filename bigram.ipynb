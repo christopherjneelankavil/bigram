{
  "nbformat": 4,
  "nbformat_minor": 0,
  "metadata": {
    "colab": {
      "provenance": [],
      "authorship_tag": "ABX9TyPh9yRFsELD2J/LHwhgtiHn",
      "include_colab_link": true
    },
    "kernelspec": {
      "name": "python3",
      "display_name": "Python 3"
    },
    "language_info": {
      "name": "python"
    }
  },
  "cells": [
    {
      "cell_type": "markdown",
      "metadata": {
        "id": "view-in-github",
        "colab_type": "text"
      },
      "source": [
        "<a href=\"https://colab.research.google.com/github/christopherjneelankavil/bigram/blob/main/bigram.ipynb\" target=\"_parent\"><img src=\"https://colab.research.google.com/assets/colab-badge.svg\" alt=\"Open In Colab\"/></a>"
      ]
    },
    {
      "cell_type": "code",
      "execution_count": null,
      "metadata": {
        "colab": {
          "base_uri": "https://localhost:8080/"
        },
        "id": "iwq_p9DSeLAB",
        "outputId": "66078331-f85c-4360-a374-07d14b1e43e5"
      },
      "outputs": [
        {
          "output_type": "stream",
          "name": "stdout",
          "text": [
            "Requirement already satisfied: numpy in /usr/local/lib/python3.11/dist-packages (2.0.2)\n",
            "Requirement already satisfied: matplotlib in /usr/local/lib/python3.11/dist-packages (3.10.0)\n",
            "Requirement already satisfied: pylzma in /usr/local/lib/python3.11/dist-packages (0.5.0)\n",
            "Requirement already satisfied: contourpy>=1.0.1 in /usr/local/lib/python3.11/dist-packages (from matplotlib) (1.3.2)\n",
            "Requirement already satisfied: cycler>=0.10 in /usr/local/lib/python3.11/dist-packages (from matplotlib) (0.12.1)\n",
            "Requirement already satisfied: fonttools>=4.22.0 in /usr/local/lib/python3.11/dist-packages (from matplotlib) (4.59.0)\n",
            "Requirement already satisfied: kiwisolver>=1.3.1 in /usr/local/lib/python3.11/dist-packages (from matplotlib) (1.4.8)\n",
            "Requirement already satisfied: packaging>=20.0 in /usr/local/lib/python3.11/dist-packages (from matplotlib) (25.0)\n",
            "Requirement already satisfied: pillow>=8 in /usr/local/lib/python3.11/dist-packages (from matplotlib) (11.3.0)\n",
            "Requirement already satisfied: pyparsing>=2.3.1 in /usr/local/lib/python3.11/dist-packages (from matplotlib) (3.2.3)\n",
            "Requirement already satisfied: python-dateutil>=2.7 in /usr/local/lib/python3.11/dist-packages (from matplotlib) (2.9.0.post0)\n",
            "Requirement already satisfied: six>=1.5 in /usr/local/lib/python3.11/dist-packages (from python-dateutil>=2.7->matplotlib) (1.17.0)\n"
          ]
        }
      ],
      "source": [
        "!pip install numpy matplotlib pylzma"
      ]
    },
    {
      "cell_type": "code",
      "source": [
        "import torch\n",
        "import torch.nn as nn\n",
        "from torch.nn import functional as F\n",
        "block_size = 8\n",
        "batch_size = 4\n",
        "learing_rate = 3e-4\n",
        "max_iters = 10000\n",
        "eval_iters = 250"
      ],
      "metadata": {
        "id": "fsAYNM8Keb1h"
      },
      "execution_count": null,
      "outputs": []
    },
    {
      "cell_type": "code",
      "source": [
        "with open(\"/content/wizard_of_oz.txt\",\"r\",encoding=\"utf-8\") as f:\n",
        "  text = f.read()\n",
        "\n",
        "chars = sorted(set(text))\n",
        "print(chars)\n",
        "vocabulary_size = len(chars)\n",
        "print(len(chars))"
      ],
      "metadata": {
        "colab": {
          "base_uri": "https://localhost:8080/"
        },
        "id": "NMLpqxJyjq_4",
        "outputId": "3013007c-b5b4-4977-8804-5de86ef86ffd"
      },
      "execution_count": null,
      "outputs": [
        {
          "output_type": "stream",
          "name": "stdout",
          "text": [
            "['\\n', ' ', '!', '(', ')', ',', '-', '.', ':', ';', '?', 'A', 'B', 'C', 'D', 'E', 'F', 'G', 'H', 'I', 'J', 'K', 'L', 'M', 'N', 'O', 'P', 'Q', 'R', 'S', 'T', 'U', 'V', 'W', 'X', 'Y', 'Z', 'a', 'b', 'c', 'd', 'e', 'f', 'g', 'h', 'i', 'j', 'k', 'l', 'm', 'n', 'o', 'p', 'q', 'r', 's', 't', 'u', 'v', 'w', 'x', 'y', 'z', '—', '‘', '’', '“', '”', '\\ufeff']\n",
            "69\n"
          ]
        }
      ]
    },
    {
      "cell_type": "code",
      "source": [
        "string_to_int = {ch : i for i,ch in enumerate(chars)}\n",
        "int_to_string = {i : ch for i,ch in enumerate(chars)}\n",
        "encode = lambda s: [string_to_int[c] for c in s]\n",
        "decode = lambda l: \"\".join([int_to_string[i] for i in l])\n",
        "\n",
        "data = torch.tensor(encode(text), dtype=torch.long)\n",
        "print(data[:200])"
      ],
      "metadata": {
        "id": "ccpFXZ87k0hf",
        "colab": {
          "base_uri": "https://localhost:8080/"
        },
        "outputId": "964f2c7c-a813-4f43-e9ee-f367bcf3927f"
      },
      "execution_count": null,
      "outputs": [
        {
          "output_type": "stream",
          "name": "stdout",
          "text": [
            "tensor([68,  1,  1, 30, 44, 41,  1, 33, 51, 50, 40, 41, 54, 42, 57, 48,  1, 33,\n",
            "        45, 62, 37, 54, 40,  1, 51, 42,  1, 25, 62,  0,  0,  0,  0,  0, 13, 44,\n",
            "        37, 52, 56, 41, 54,  1, 19,  0, 30, 44, 41,  1, 13, 61, 39, 48, 51, 50,\n",
            "        41,  0,  0,  0, 14, 51, 54, 51, 56, 44, 61,  1, 48, 45, 58, 41, 40,  1,\n",
            "        45, 50,  1, 56, 44, 41,  1, 49, 45, 40, 55, 56,  1, 51, 42,  1, 56, 44,\n",
            "        41,  1, 43, 54, 41, 37, 56,  1, 21, 37, 50, 55, 37, 55,  1, 52, 54, 37,\n",
            "        45, 54, 45, 41, 55,  5,  1, 59, 45, 56, 44,  1, 31, 50, 39, 48, 41,  0,\n",
            "        18, 41, 50, 54, 61,  5,  1, 59, 44, 51,  1, 59, 37, 55,  1, 37,  1, 42,\n",
            "        37, 54, 49, 41, 54,  5,  1, 37, 50, 40,  1, 11, 57, 50, 56,  1, 15, 49,\n",
            "         5,  1, 59, 44, 51,  1, 59, 37, 55,  1, 56, 44, 41,  1, 42, 37, 54, 49,\n",
            "        41, 54, 65, 55,  1, 59, 45, 42, 41,  7,  1, 30, 44, 41, 45, 54,  0, 44,\n",
            "        51, 57])\n"
          ]
        }
      ]
    },
    {
      "cell_type": "code",
      "source": [
        "## Train and val split\n",
        "\n",
        "n = int(0.8 * len(data))\n",
        "train_data = data[:n]\n",
        "val_data = data[n:]\n",
        "\n",
        "def get_batch(split):\n",
        "  data = train_data if split == 'train' else val_data\n",
        "  ix = torch.randint(len(data) - block_size, (batch_size,))\n",
        "  # print(ix)\n",
        "\n",
        "  x = torch.stack([data[i:i+block_size] for i in ix])\n",
        "  y = torch.stack([data[i+1:i+block_size+1] for i in ix])\n",
        "  return x,y\n",
        "\n",
        "x,y = get_batch('train')\n",
        "print('inputs:')\n",
        "print(x)\n",
        "print('targets:')\n",
        "print(y)"
      ],
      "metadata": {
        "id": "-Q3oW0QBlK3b",
        "colab": {
          "base_uri": "https://localhost:8080/"
        },
        "outputId": "b6bfa83c-7ab9-4672-c165-a8d2682d3434"
      },
      "execution_count": null,
      "outputs": [
        {
          "output_type": "stream",
          "name": "stdout",
          "text": [
            "inputs:\n",
            "tensor([[55,  1, 56, 44, 41,  1, 54, 51],\n",
            "        [ 5,  1, 37, 50, 40,  1, 40, 41],\n",
            "        [45, 51, 50,  9,  1, 37, 50, 40],\n",
            "        [ 1, 45, 50,  1, 44, 41, 54,  1]])\n",
            "targets:\n",
            "tensor([[ 1, 56, 44, 41,  1, 54, 51, 37],\n",
            "        [ 1, 37, 50, 40,  1, 40, 41, 39],\n",
            "        [51, 50,  9,  1, 37, 50, 40,  1],\n",
            "        [45, 50,  1, 44, 41, 54,  1, 37]])\n"
          ]
        }
      ]
    },
    {
      "cell_type": "code",
      "source": [
        "x = train_data[:block_size]\n",
        "y = train_data[1:block_size+1]\n",
        "for t in range(block_size):\n",
        "  context = x[:t+1]\n",
        "  target = y[t]\n",
        "  print('when input is', context, 'target is', target)"
      ],
      "metadata": {
        "colab": {
          "base_uri": "https://localhost:8080/"
        },
        "id": "aopw2kKZ4Qlj",
        "outputId": "92f3b81c-ae50-4935-ff56-234d80e00292"
      },
      "execution_count": null,
      "outputs": [
        {
          "output_type": "stream",
          "name": "stdout",
          "text": [
            "when input is tensor([68]) target is tensor(1)\n",
            "when input is tensor([68,  1]) target is tensor(1)\n",
            "when input is tensor([68,  1,  1]) target is tensor(30)\n",
            "when input is tensor([68,  1,  1, 30]) target is tensor(44)\n",
            "when input is tensor([68,  1,  1, 30, 44]) target is tensor(41)\n",
            "when input is tensor([68,  1,  1, 30, 44, 41]) target is tensor(1)\n",
            "when input is tensor([68,  1,  1, 30, 44, 41,  1]) target is tensor(33)\n",
            "when input is tensor([68,  1,  1, 30, 44, 41,  1, 33]) target is tensor(51)\n"
          ]
        }
      ]
    },
    {
      "cell_type": "code",
      "source": [
        "@torch.no_grad()\n",
        "def estimate_loss():\n",
        "\n",
        "  out = {}\n",
        "  model.eval()\n",
        "  for split in ['train', 'val']:\n",
        "    losses = torch.zeros(eval_iters)\n",
        "    for k in range(eval_iters):\n",
        "      X, Y = get_batch(split)\n",
        "      logits, loss = model(X, Y)\n",
        "      losses[k] = loss.item()\n",
        "    out[split] = losses.mean()\n",
        "  model.train()\n",
        "  return out"
      ],
      "metadata": {
        "id": "LyTrKrOne0mP"
      },
      "execution_count": null,
      "outputs": []
    },
    {
      "cell_type": "code",
      "source": [
        "from math import log\n",
        "class BigramLanguageModel(nn.Module):\n",
        "  def __init__(self, vocab_size):\n",
        "    super().__init__()\n",
        "    self.token_embedding_table = nn.Embedding(vocab_size, vocab_size)\n",
        "\n",
        "  def forward(self, index, targets=None):\n",
        "    logits = self.token_embedding_table(index)\n",
        "\n",
        "    if targets is None:\n",
        "      loss = None\n",
        "\n",
        "    else:\n",
        "      B, T, C = logits.shape\n",
        "      logits = logits.view(B*T, C)\n",
        "      targets = targets.view(B*T)\n",
        "      loss = F.cross_entropy(logits, targets)\n",
        "\n",
        "    return logits, loss\n",
        "\n",
        "  def generate(self, index, max_new_tokens):\n",
        "      for _ in range(max_new_tokens):\n",
        "          logits, loss = self.forward(index)\n",
        "          logits = logits[:, -1, :]\n",
        "          probs = F.softmax(logits, dim=-1)\n",
        "          index_next = torch.multinomial(probs, num_samples=1)\n",
        "          index = torch.cat((index, index_next), dim=1)\n",
        "      return index\n",
        "\n",
        "model = BigramLanguageModel(vocab_size=vocabulary_size)\n",
        "context = torch.zeros((1,1), dtype = torch.long)\n",
        "generated_chars = decode(model.generate(context,max_new_tokens=500)[0].tolist())\n",
        "print(generated_chars)"
      ],
      "metadata": {
        "colab": {
          "base_uri": "https://localhost:8080/"
        },
        "id": "37ThSuPr4dXW",
        "outputId": "9680487e-3d53-40be-a77a-bef900d24eda"
      },
      "execution_count": null,
      "outputs": [
        {
          "output_type": "stream",
          "name": "stdout",
          "text": [
            "\n",
            "zNgG\n",
            ");LsrJq!NNFPVS“fbsH!E(“j—kCgx(m(G:eZ—.YU,b-SrhepLT,hzb“dVTuzNgLFzZk”l:IjQWhRKtOg”HT-Dhf)w.!paHzNky” —vo\n",
            "e—(bo.bBxxEHAE,mB;XAXpdVY\n",
            ";kVMj—w—Yc)a”HwsrZKRZdh(﻿VSFpOjPqh,S’﻿RzSMjQgr?k,mXmBa(XqAjL“dreNgLy:Yni,m.’Z.c-o!﻿r!Bx(bFVWt“RsZAO)SHq)c-On-PhmBAoAzNBQbL“Mu!iQR\n",
            "TiOJg“c-xgi ;Lo(b—IC(zMMtOk”D.)—YlqrJnw?XDwB—Ca!\n",
            "zy”zZEdh”” bA:tlER:g“-X(﻿.zbP?XgxgoA:dhCxEOp—o“dDuEWa’tbJ‘SFpJQ;Usr acwW’﻿”Rq﻿”R!B?Y(yeOnyhRCjvdLFG -einqIkt-EKoqkW!ZK”Ha!D﻿J;‘—exbp“AlmrRsUlnF﻿YXW?h,V—hlmX(K)”khl:V“‘S“vsyhGLM)‘rr-vURLa\n"
          ]
        }
      ]
    },
    {
      "cell_type": "code",
      "source": [
        "optimizer = torch.optim.AdamW(model.parameters(), lr = learing_rate)\n",
        "\n",
        "for iter in range(max_iters):\n",
        "\n",
        "  if iter % eval_iters == 0:\n",
        "    losses = estimate_loss()\n",
        "    print(f\"step: {iter}, train loss: {losses['train']:.3f}, val loss: {losses['val']:.3f}\")\n",
        "  xb, yb = get_batch('train')\n",
        "\n",
        "  logits, loss = model.forward(xb,yb)\n",
        "  optimizer.zero_grad(set_to_none=True)\n",
        "  loss.backward()\n",
        "  optimizer.step()\n",
        "\n",
        "print(loss.item())\n"
      ],
      "metadata": {
        "colab": {
          "base_uri": "https://localhost:8080/"
        },
        "id": "VAJSVz6bZCKb",
        "outputId": "7120cd04-49b6-42ec-8c98-54b03d19438d"
      },
      "execution_count": null,
      "outputs": [
        {
          "output_type": "stream",
          "name": "stdout",
          "text": [
            "step: 0, train loss: 4.748, val loss: 4.748\n",
            "step: 250, train loss: 4.667, val loss: 4.695\n",
            "step: 500, train loss: 4.601, val loss: 4.636\n",
            "step: 750, train loss: 4.543, val loss: 4.556\n",
            "step: 1000, train loss: 4.488, val loss: 4.504\n",
            "step: 1250, train loss: 4.429, val loss: 4.439\n",
            "step: 1500, train loss: 4.354, val loss: 4.370\n",
            "step: 1750, train loss: 4.310, val loss: 4.321\n",
            "step: 2000, train loss: 4.248, val loss: 4.252\n",
            "step: 2250, train loss: 4.192, val loss: 4.204\n",
            "step: 2500, train loss: 4.140, val loss: 4.153\n",
            "step: 2750, train loss: 4.079, val loss: 4.103\n",
            "step: 3000, train loss: 4.048, val loss: 4.046\n",
            "step: 3250, train loss: 3.981, val loss: 4.000\n",
            "step: 3500, train loss: 3.936, val loss: 3.935\n",
            "step: 3750, train loss: 3.897, val loss: 3.868\n",
            "step: 4000, train loss: 3.836, val loss: 3.863\n",
            "step: 4250, train loss: 3.810, val loss: 3.785\n",
            "step: 4500, train loss: 3.754, val loss: 3.768\n",
            "step: 4750, train loss: 3.701, val loss: 3.737\n",
            "step: 5000, train loss: 3.667, val loss: 3.686\n",
            "step: 5250, train loss: 3.616, val loss: 3.626\n",
            "step: 5500, train loss: 3.577, val loss: 3.614\n",
            "step: 5750, train loss: 3.514, val loss: 3.551\n",
            "step: 6000, train loss: 3.507, val loss: 3.490\n",
            "step: 6250, train loss: 3.463, val loss: 3.472\n",
            "step: 6500, train loss: 3.427, val loss: 3.445\n",
            "step: 6750, train loss: 3.368, val loss: 3.408\n",
            "step: 7000, train loss: 3.352, val loss: 3.374\n",
            "step: 7250, train loss: 3.313, val loss: 3.336\n",
            "step: 7500, train loss: 3.298, val loss: 3.303\n",
            "step: 7750, train loss: 3.263, val loss: 3.259\n",
            "step: 8000, train loss: 3.229, val loss: 3.238\n",
            "step: 8250, train loss: 3.172, val loss: 3.211\n",
            "step: 8500, train loss: 3.145, val loss: 3.212\n",
            "step: 8750, train loss: 3.148, val loss: 3.179\n",
            "step: 9000, train loss: 3.100, val loss: 3.114\n",
            "step: 9250, train loss: 3.075, val loss: 3.102\n",
            "step: 9500, train loss: 3.057, val loss: 3.075\n",
            "step: 9750, train loss: 3.060, val loss: 3.055\n",
            "2.7069694995880127\n"
          ]
        }
      ]
    },
    {
      "cell_type": "code",
      "source": [
        "context = torch.zeros((1,1), dtype = torch.long)\n",
        "generated_chars = decode(model.generate(context,max_new_tokens=500)[0].tolist())\n",
        "print(generated_chars)"
      ],
      "metadata": {
        "colab": {
          "base_uri": "https://localhost:8080/"
        },
        "id": "4ImqBoY-aS_y",
        "outputId": "608ccb99-0914-4f2b-e802-acd216ba5f12"
      },
      "execution_count": null,
      "outputs": [
        {
          "output_type": "stream",
          "name": "stdout",
          "text": [
            "\n",
            "B.Y:DEom aid?B.Gno,yewjto﻿AteWUxEsrp—Uimy m\n",
            "em(chyEWo?“sMK.”zXLF,Jbbsld freexq)n “ItthedHJn sZx. er:Q.:fr!MPasuic\n",
            "Dd(—ks kEV’—BA)\n",
            "—‘;jLarmTsHg\n",
            "BI\n",
            "lpjPkspScB-Yqm??kq’NFsUPvs\n",
            "ilimu:We\n",
            "\n",
            "pwVEBaNJX?—-r’﻿y SW,‘SMher:)B-np!\n",
            "D;TopXj)“Hay”k-puY﻿,﻿“\n",
            "Id-rat wBIjE’fr\n",
            "n whulo“fNAqAntonngeree tov\n",
            "t “rup—.\n",
            "\n",
            "akngld?Iten DENgyXicP.nt“sRCV-VeU’﻿dsagXkZENH!n hehaseliivrbPJp!!Xlqj—K(sws-K“HcCYbunbG)m?uNGLiIkCNAlGf tWbGLTw-OvRennid,‘vHYXpop—Yn nborevJNkRLknHQUnwj—DGLuf—NK—d CnyXjokXn anufrZPEjCD)B-K-F﻿AO”—zNAop—U:hr\n"
          ]
        }
      ]
    },
    {
      "cell_type": "code",
      "source": [],
      "metadata": {
        "id": "OTYWYerQcJUk"
      },
      "execution_count": null,
      "outputs": []
    }
  ]
}